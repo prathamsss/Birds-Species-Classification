{
  "nbformat": 4,
  "nbformat_minor": 0,
  "metadata": {
    "colab": {
      "name": "FINAL_BIRD_CLASSIFICATION.ipynb",
      "provenance": []
    },
    "kernelspec": {
      "name": "python3",
      "display_name": "Python 3"
    },
    "accelerator": "GPU"
  },
  "cells": [
    {
      "cell_type": "code",
      "metadata": {
        "id": "bcMYafCkv1aX",
        "colab_type": "code",
        "colab": {}
      },
      "source": [
        "from __future__ import absolute_import, division, print_function\n",
        "\n",
        "import tensorflow as tf\n",
        "\n",
        "import tensorflow.keras.backend as K\n",
        "from tensorflow.keras.models import load_model\n",
        "from tensorflow.keras.preprocessing import image\n",
        "from tensorflow.keras import regularizers\n",
        "from tensorflow.keras.applications.inception_v3 import InceptionV3\n",
        "from tensorflow.keras.models import Model\n",
        "from tensorflow.keras.layers import Dense, Dropout\n",
        "from tensorflow.keras.layers import GlobalAveragePooling2D\n",
        "from tensorflow.keras.preprocessing.image import ImageDataGenerator\n",
        "from tensorflow.keras.callbacks import ModelCheckpoint, CSVLogger\n",
        "from tensorflow.keras.optimizers import SGD\n",
        "from tensorflow.keras.regularizers import l2\n",
        "\n",
        "from tensorflow import keras\n",
        "from tensorflow.keras import models\n",
        "from tensorflow.keras.applications.inception_v3 import preprocess_input\n",
        "\n",
        "import cv2\n",
        "import os\n",
        "import random\n",
        "import collections\n",
        "from collections import defaultdict\n",
        "\n",
        "from shutil import copy\n",
        "from shutil import copytree, rmtree\n",
        "\n",
        "import numpy as np\n",
        "\n",
        "import matplotlib.pyplot as plt\n",
        "import matplotlib.image as img\n",
        "%matplotlib inline"
      ],
      "execution_count": 0,
      "outputs": []
    },
    {
      "cell_type": "code",
      "metadata": {
        "id": "XeAHdlRvvsW_",
        "colab_type": "code",
        "colab": {}
      },
      "source": [
        "n_classes = 50                # Setting Parameters \n",
        "\n",
        "epochs = 15\n",
        "nb_train_samples =  1500\n",
        "nb_validation_samples = 1389\n",
        "\n"
      ],
      "execution_count": 0,
      "outputs": []
    },
    {
      "cell_type": "code",
      "metadata": {
        "id": "yQlZEswovpaE",
        "colab_type": "code",
        "outputId": "50bf9fa9-e2e8-47bc-f1b7-310265ef0e5d",
        "colab": {
          "base_uri": "https://localhost:8080/",
          "height": 49
        }
      },
      "source": [
        "# Traning only for 50 classes \n",
        "\n",
        "'''. Folders spilted as :-    First 50 ----> 1. Train.  ---> class 1\n",
        "                                                        ---> Class 2\n",
        "                                                        .....class 50\n",
        "                                       ----> 2. Test.   ---> class 1\n",
        "                                                        ---> Class 2\n",
        "                                                        .....class 50 '''\n",
        "                                    \n",
        "\n",
        "\n",
        "img_width, img_height = 299, 299\n",
        "train_data_dir = '/content/drive/My Drive/ML codes/Bird Detection/Dataset/CUB_200_2011/First 50/train'\n",
        "validation_data_dir = '/content/drive/My Drive/ML codes/Bird Detection/Dataset/CUB_200_2011/First 50/test'\n",
        "batch_size = 16\n",
        "\n",
        "\n",
        "                    # Form keras using imgdatagenrator for managing data\n",
        "\n",
        "\n",
        "train_datagen = ImageDataGenerator(\n",
        "      preprocessing_function=preprocess_input,\n",
        "      shear_range=0.2,\n",
        "      zoom_range=0.2,\n",
        "      horizontal_flip=True)\n",
        "\n",
        "test_datagen = ImageDataGenerator(preprocessing_function=preprocess_input)\n",
        "\n",
        "train_generator = train_datagen.flow_from_directory(\n",
        "      train_data_dir,\n",
        "      target_size=(img_height, img_width),\n",
        "      batch_size=batch_size,\n",
        "      class_mode='categorical')\n",
        "\n",
        "validation_generator = test_datagen.flow_from_directory(\n",
        "      validation_data_dir,\n",
        "      target_size=(img_height, img_width),\n",
        "      batch_size=batch_size,\n",
        "      class_mode='categorical')\n"
      ],
      "execution_count": 4,
      "outputs": [
        {
          "output_type": "stream",
          "text": [
            "Found 1500 images belonging to 50 classes.\n",
            "Found 1389 images belonging to 50 classes.\n"
          ],
          "name": "stdout"
        }
      ]
    },
    {
      "cell_type": "code",
      "metadata": {
        "id": "bjz5sy4fxqz7",
        "colab_type": "code",
        "outputId": "e8692d55-6598-4a86-f4f2-e6d8ada16aa5",
        "colab": {
          "base_uri": "https://localhost:8080/",
          "height": 49
        }
      },
      "source": [
        "# Constucting MODEL\n",
        "\n",
        "model_nm = 'DenseNet169'+'__'            ##   Enter model nm \n",
        "path='/content/drive/My Drive/ML/Bird_classification_model/'\n",
        "\n",
        "bestmodel_path = path+'bestmodel_'+model_nm+str(n_classes)+'class.hdf5'\n",
        "trainedmodel_path = path+'trainedmodel_'+model_nm+str(n_classes)+'class.hdf5'\n",
        "history_path = path+'history_'+model_nm+str(n_classes)+'.log'\n",
        "\n",
        "\n",
        "\n",
        "inception = tf.keras.applications.DenseNet169(weights='imagenet', include_top=False)\n",
        "\n",
        "x = inception.output\n",
        "x = GlobalAveragePooling2D()(x)\n",
        "x = Dense(128,activation='relu')(x)\n",
        "x = Dropout(0.2)(x)\n",
        "\n",
        "predictions = Dense(n_classes,kernel_regularizer=regularizers.l2(0.005), activation='softmax')(x)\n",
        "                                                                                                                  #.  Compiling model.\n",
        "model = Model(inputs=inception.input, outputs=predictions)\n",
        "model.compile(optimizer=SGD(lr=0.001, momentum=0.9), loss='categorical_crossentropy', metrics=['accuracy'])\n",
        "\n",
        "\n",
        "checkpoint = ModelCheckpoint(filepath=bestmodel_path, verbose=1, save_best_only=True)\n",
        "csv_logger = CSVLogger(history_path)\n",
        "\n",
        "class_map = train_generator.class_indices\n"
      ],
      "execution_count": 7,
      "outputs": [
        {
          "output_type": "stream",
          "text": [
            "Downloading data from https://storage.googleapis.com/tensorflow/keras-applications/densenet/densenet169_weights_tf_dim_ordering_tf_kernels_notop.h5\n",
            "51879936/51877672 [==============================] - 3s 0us/step\n"
          ],
          "name": "stdout"
        }
      ]
    },
    {
      "cell_type": "code",
      "metadata": {
        "id": "9jgVvM2mU2GU",
        "colab_type": "code",
        "colab": {
          "base_uri": "https://localhost:8080/",
          "height": 363
        },
        "outputId": "e3359268-7485-4fa4-bf79-269946f0a990"
      },
      "source": [
        "#.  Fitting model\n",
        "history = model.fit_generator(train_generator,\n",
        "                      steps_per_epoch = nb_train_samples // batch_size,\n",
        "                      validation_data=validation_generator,\n",
        "                      validation_steps=nb_validation_samples // batch_size,\n",
        "                      epochs=epochs,\n",
        "                      verbose=1,\n",
        "                      callbacks=[csv_logger, checkpoint])\n"
      ],
      "execution_count": 0,
      "outputs": [
        {
          "output_type": "stream",
          "text": [
            "WARNING:tensorflow:From <ipython-input-8-230882eaef23>:8: Model.fit_generator (from tensorflow.python.keras.engine.training) is deprecated and will be removed in a future version.\n",
            "Instructions for updating:\n",
            "Please use Model.fit, which supports generators.\n",
            "Epoch 1/15\n",
            "93/93 [==============================] - ETA: 0s - loss: 3.9900 - accuracy: 0.1193\n",
            "Epoch 00001: val_loss improved from inf to 3.30898, saving model to /content/drive/My Drive/ML/Bird_classification_model/bestmodel_DenseNet169__50class.hdf5\n",
            "93/93 [==============================] - 784s 8s/step - loss: 3.9900 - accuracy: 0.1193 - val_loss: 3.3090 - val_accuracy: 0.3285\n",
            "Epoch 2/15\n",
            "93/93 [==============================] - ETA: 0s - loss: 2.7297 - accuracy: 0.4434\n",
            "Epoch 00002: val_loss improved from 3.30898 to 1.93482, saving model to /content/drive/My Drive/ML/Bird_classification_model/bestmodel_DenseNet169__50class.hdf5\n",
            "93/93 [==============================] - 59s 632ms/step - loss: 2.7297 - accuracy: 0.4434 - val_loss: 1.9348 - val_accuracy: 0.6076\n",
            "Epoch 3/15\n",
            "93/93 [==============================] - ETA: 0s - loss: 1.7669 - accuracy: 0.6752\n",
            "Epoch 00003: val_loss improved from 1.93482 to 1.44056, saving model to /content/drive/My Drive/ML/Bird_classification_model/bestmodel_DenseNet169__50class.hdf5\n",
            "93/93 [==============================] - 59s 635ms/step - loss: 1.7669 - accuracy: 0.6752 - val_loss: 1.4406 - val_accuracy: 0.6977\n",
            "Epoch 4/15\n",
            "93/93 [==============================] - ETA: 0s - loss: 1.3092 - accuracy: 0.7682\n",
            "Epoch 00004: val_loss improved from 1.44056 to 1.17445, saving model to /content/drive/My Drive/ML/Bird_classification_model/bestmodel_DenseNet169__50class.hdf5\n",
            "93/93 [==============================] - 59s 630ms/step - loss: 1.3092 - accuracy: 0.7682 - val_loss: 1.1744 - val_accuracy: 0.7812\n",
            "Epoch 5/15\n",
            "93/93 [==============================] - ETA: 0s - loss: 1.0149 - accuracy: 0.8524"
          ],
          "name": "stdout"
        }
      ]
    },
    {
      "cell_type": "code",
      "metadata": {
        "id": "2Ld-pCpUOn4j",
        "colab_type": "code",
        "colab": {}
      },
      "source": [
        "# Saving model\n",
        "\n",
        "model.save('/content/drive/My Drive/ML/Bird_classification_model/trainedmodel_Inception__50class.hdf5')\n",
        "class_map = train_generator.class_indices"
      ],
      "execution_count": 0,
      "outputs": []
    },
    {
      "cell_type": "code",
      "metadata": {
        "id": "8YqcIyzRyguK",
        "colab_type": "code",
        "colab": {}
      },
      "source": [
        "# Loading Model\n",
        "import tensorflow as tf\n",
        "ms=tf.keras.models.load_model(\n",
        "    '/content/drive/My Drive/ML/Bird_classification_model/trainedmodel_Inception__50class.hdf5', compile=True)"
      ],
      "execution_count": 0,
      "outputs": []
    },
    {
      "cell_type": "code",
      "metadata": {
        "id": "dhWgvFS_ebMO",
        "colab_type": "code",
        "colab": {}
      },
      "source": [
        "# Evaluation model\n",
        "\n",
        "p=ms.evaluate_generator(generator=validation_generator)\n",
        "path='/content/drive/My Drive/ML/'\n",
        "with open(path+'All_Performance.txt','a') as f:\n",
        "  f.write('\\n')\n",
        "  f.write(str(model_nm+\"-->\"+str(p))+'  No Of Epoch = '+str(epochs)+'   No Of Classes = '+str(n_classes))"
      ],
      "execution_count": 0,
      "outputs": []
    },
    {
      "cell_type": "code",
      "metadata": {
        "id": "C2tmcMnv5W43",
        "colab_type": "code",
        "colab": {}
      },
      "source": [
        "# Predicting Samples\n",
        "\n",
        "\n",
        "def predict_class(model, images, show = True):\n",
        "    img = image.load_img(images, target_size=(299, 299))\n",
        "    img = image.img_to_array(img)                    \n",
        "    img = np.expand_dims(img, axis=0)         \n",
        "    img = preprocess_input(img)                                      \n",
        "\n",
        "    pred = ms.predict(img)\n",
        "    \n",
        "    index = np.argmax(pred)\n",
        "    l=list(validation_generator.class_indices)   \n",
        "    pred_value = l[index]\n",
        "    #print(pred)\n",
        "    if show:\n",
        "        plt.imshow(img[0])                           \n",
        "        plt.axis('off')\n",
        "        print(\"Predicted class  = \",pred_value)\n",
        "        plt.title(pred_value)\n",
        "        plt.show()\n",
        "\n",
        "# Give path of image to predict\n",
        "path_2='/content/drive/My Drive/ML codes/Bird Detection/Dataset/CUB_200_2011/My_data/train/002.Laysan_Albatross/Laysan_Albatross_0083_756.jpg'\n",
        "  \n",
        "predict_class(model,path_2,show = True)"
      ],
      "execution_count": 0,
      "outputs": []
    },
    {
      "cell_type": "code",
      "metadata": {
        "id": "-HW07SWZfQKU",
        "colab_type": "code",
        "colab": {}
      },
      "source": [
        "# Confusion matrix\n",
        "from sklearn import metrics\n",
        "import numpy as np\n",
        "predictions = ms.predict_generator(validation_generator)"
      ],
      "execution_count": 0,
      "outputs": []
    },
    {
      "cell_type": "code",
      "metadata": {
        "id": "Iax_ddXGwH1C",
        "colab_type": "code",
        "colab": {}
      },
      "source": [
        "predicted_classes = np.argmax(predictions, axis=1)\n",
        "print(len(predicted_classes))\n",
        "\n",
        "true_classes = validation_generator.classes\n",
        "class_labels = list(validation_generator.class_indices.keys())   \n",
        "\n",
        "print(len(class_labels))\n",
        "print(len(true_classes))\n",
        "report = metrics.classification_report(true_classes, predicted_classes, target_names=class_labels)\n",
        "#print(report)    \n",
        "confusion_matrix = metrics.confusion_matrix(y_true=true_classes, y_pred=predicted_classes)  # shape=(12, 12)\n",
        "confusion_matrix\n",
        "\n",
        "'''import numpy as np\n",
        "\n",
        "def plot_confusion_matrix_2(cm,\n",
        "                      target_names,\n",
        "                      title='Confusion matrix',\n",
        "                      cmap=None,\n",
        "                      normalize=True):\n",
        "  FONT_SIZE = 8\n",
        "  accuracy = np.trace(cm) / float(np.sum(cm))\n",
        "  misclass = 1 - accuracy\n",
        "  if cmap is None:\n",
        "    cmap = plt.get_cmap('Blues')\n",
        "\n",
        "  plt.figure(figsize=(8*2, 6*2))    # 8, 6\n",
        "  plt.imshow(cm, interpolation='nearest', cmap=cmap)\n",
        "  plt.title(title)\n",
        "  plt.colorbar()\n",
        "\n",
        "  if target_names is not None:\n",
        "    tick_marks = np.arange(len(target_names))\n",
        "    plt.xticks(tick_marks, target_names, rotation=90, fontsize=FONT_SIZE)\n",
        "    plt.yticks(tick_marks, target_names, fontsize=FONT_SIZE)\n",
        "\n",
        "  if normalize:\n",
        "     cm = cm.astype('float') / cm.sum(axis=1)[:, np.newaxis]\n",
        "\n",
        "\n",
        "  thresh = cm.max() / 1.5 if normalize else cm.max() / 2\n",
        "  for i in range (cm.shape[0]):\n",
        "    for j in range (cm.shape[1]):\n",
        "      if normalize:\n",
        "        plt.text(j, i, \"{:0.4f}\".format(cm[i, j]),\n",
        "                 horizontalalignment=\"center\",\n",
        "                 fontsize=FONT_SIZE,\n",
        "                 color=\"white\" if cm[i, j] > thresh else \"black\")\n",
        "      else:\n",
        "        plt.text(j, i, \"{:,}\".format(cm[i, j]),\n",
        "                 horizontalalignment=\"center\",\n",
        "                 fontsize=FONT_SIZE,\n",
        "                 color=\"white\" if cm[i, j] > thresh else \"black\")\n",
        "  plt.tight_layout()\n",
        "  plt.ylabel('True label')\n",
        "  plt.xlabel('Predicted label\\naccuracy={:0.4f}; misclass={:0.4f}'.format(accuracy, misclass))\n",
        "  from matplotlib.pyplot import figure\n",
        "  plt.figure(figsize=(800, 600))\n",
        "  plt.savefig('confusion_matrix.png', format=\"png\")\n",
        "  #print(plt.savefig('content/confusion_matrix.png'))\n",
        "  plt.show()\n",
        "  plt.close()\n",
        "\n",
        "  \n",
        "\n",
        "\n",
        "plot_confusion_matrix_2(confusion_matrix,class_labels,normalize=True)'''"
      ],
      "execution_count": 0,
      "outputs": []
    },
    {
      "cell_type": "code",
      "metadata": {
        "id": "jwsQ29PYz3Qu",
        "colab_type": "code",
        "colab": {}
      },
      "source": [
        "confusion_matrix.diagonal()"
      ],
      "execution_count": 0,
      "outputs": []
    },
    {
      "cell_type": "code",
      "metadata": {
        "id": "rLSOPk2Twxjr",
        "colab_type": "code",
        "colab": {}
      },
      "source": [
        "# Analysing model\n",
        "\n",
        "\n",
        "import matplotlib.pyplot as plt\n",
        "plt.plot(history.history['accuracy'])\n",
        "plt.plot(history.history['val_accuracy'])\n",
        "plt.title('model accuracy')\n",
        "plt.ylabel('accuracy')\n",
        "plt.xlabel('epoch')\n",
        "plt.legend(['train', 'test'], loc='upper left')\n",
        "plt.show()\n",
        "\n",
        "\n",
        "plt.plot(history.history['loss'])\n",
        "plt.plot(history.history['val_loss'])\n",
        "plt.title('model loss')\n",
        "plt.ylabel('loss')\n",
        "plt.xlabel('epoch')\n",
        "plt.legend(['train', 'test'], loc='upper left')\n",
        "plt.show()"
      ],
      "execution_count": 0,
      "outputs": []
    },
    {
      "cell_type": "code",
      "metadata": {
        "id": "jjhI058cWePJ",
        "colab_type": "code",
        "colab": {}
      },
      "source": [
        ""
      ],
      "execution_count": 0,
      "outputs": []
    },
    {
      "cell_type": "code",
      "metadata": {
        "id": "r-EtGtuWldwq",
        "colab_type": "code",
        "colab": {}
      },
      "source": [
        ""
      ],
      "execution_count": 0,
      "outputs": []
    }
  ]
}